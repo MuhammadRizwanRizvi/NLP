{
 "cells": [
  {
   "cell_type": "markdown",
   "id": "ad90a242-6578-4a6a-b3fe-290fdc05bc42",
   "metadata": {},
   "source": [
    "word2vec means representing words into vectors.tf-idf value gives importants to the words in corpus\n",
    "but never tells how two words are similar and has related meaning.\n",
    "in word2vec similar words have nearly similar vectors like car and automobiles are \n",
    "related so they have similar vectors. this helps in next word prediction."
   ]
  },
  {
   "cell_type": "code",
   "execution_count": 73,
   "id": "4a2b2098-7b9e-4002-a06d-b4c3b55b82e5",
   "metadata": {},
   "outputs": [
    {
     "data": {
      "text/plain": [
       "'4.3.0'"
      ]
     },
     "execution_count": 73,
     "metadata": {},
     "output_type": "execute_result"
    }
   ],
   "source": [
    "import nltk\n",
    "#this library is used to make vector of words\n",
    "import gensim\n",
    "import re\n",
    "gensim.__version__"
   ]
  },
  {
   "cell_type": "code",
   "execution_count": 74,
   "id": "d2c39c3f-8aa4-4742-80b7-e5a91972cfa0",
   "metadata": {},
   "outputs": [],
   "source": [
    "from nltk.corpus import stopwords\n",
    "from gensim.models import Word2Vec\n",
    "from nltk.tokenize import sent_tokenize,word_tokenize"
   ]
  },
  {
   "cell_type": "code",
   "execution_count": 75,
   "id": "f65bba13-0552-4634-821d-3af4e6440f5b",
   "metadata": {},
   "outputs": [],
   "source": [
    "text=\"In the heart of the bustling city, amidst the @#$% 1234 towering skyscrapers and bustling crowds, lies a quaint little cafe. Its inviting aroma of freshly ground coffee beans mingles with the scent of freshly baked pastries, creating an irresistible allure for passersby. Inside, the cozy ambiance is adorned with mismatched vintage furniture and soft, ambient lighting that casts a warm glow on the worn wooden floors. Patrons sip leisurely on their lattes, engrossed in conversations ranging from politics to art, their voices blending harmoniously with the soft jazz music playing in the background. It's a sanctuary where time seems to slow down, allowing moments of peace and connection to flourish.\""
   ]
  },
  {
   "cell_type": "code",
   "execution_count": 76,
   "id": "8e095b07-187a-4ffc-b324-2a8c9a189123",
   "metadata": {},
   "outputs": [],
   "source": [
    "def cleaning(text):\n",
    "    sentence=nltk.sent_tokenize(text)\n",
    "    normalized_words=[]\n",
    "    for i in range(len(sentence)):\n",
    "        words=re.sub('[^a-zA-Z]',' ',sentence[i])\n",
    "        words=words.lower().split()\n",
    "        temp=[]\n",
    "        for word in words:\n",
    "            if word not in stopwords.words('english'):\n",
    "               temp.append(word)  \n",
    "        normalized_words.append(temp)\n",
    "    return normalized_words"
   ]
  },
  {
   "cell_type": "code",
   "execution_count": 77,
   "id": "6230b8e6-e545-47a1-b34c-2ab61190199a",
   "metadata": {},
   "outputs": [
    {
     "data": {
      "text/plain": [
       "[['heart',\n",
       "  'bustling',\n",
       "  'city',\n",
       "  'amidst',\n",
       "  'towering',\n",
       "  'skyscrapers',\n",
       "  'bustling',\n",
       "  'crowds',\n",
       "  'lies',\n",
       "  'quaint',\n",
       "  'little',\n",
       "  'cafe'],\n",
       " ['inviting',\n",
       "  'aroma',\n",
       "  'freshly',\n",
       "  'ground',\n",
       "  'coffee',\n",
       "  'beans',\n",
       "  'mingles',\n",
       "  'scent',\n",
       "  'freshly',\n",
       "  'baked',\n",
       "  'pastries',\n",
       "  'creating',\n",
       "  'irresistible',\n",
       "  'allure',\n",
       "  'passersby'],\n",
       " ['inside',\n",
       "  'cozy',\n",
       "  'ambiance',\n",
       "  'adorned',\n",
       "  'mismatched',\n",
       "  'vintage',\n",
       "  'furniture',\n",
       "  'soft',\n",
       "  'ambient',\n",
       "  'lighting',\n",
       "  'casts',\n",
       "  'warm',\n",
       "  'glow',\n",
       "  'worn',\n",
       "  'wooden',\n",
       "  'floors'],\n",
       " ['patrons',\n",
       "  'sip',\n",
       "  'leisurely',\n",
       "  'lattes',\n",
       "  'engrossed',\n",
       "  'conversations',\n",
       "  'ranging',\n",
       "  'politics',\n",
       "  'art',\n",
       "  'voices',\n",
       "  'blending',\n",
       "  'harmoniously',\n",
       "  'soft',\n",
       "  'jazz',\n",
       "  'music',\n",
       "  'playing',\n",
       "  'background'],\n",
       " ['sanctuary',\n",
       "  'time',\n",
       "  'seems',\n",
       "  'slow',\n",
       "  'allowing',\n",
       "  'moments',\n",
       "  'peace',\n",
       "  'connection',\n",
       "  'flourish']]"
      ]
     },
     "execution_count": 77,
     "metadata": {},
     "output_type": "execute_result"
    }
   ],
   "source": [
    "cleaned_text=cleaning(text)\n",
    "cleaned_text"
   ]
  },
  {
   "cell_type": "code",
   "execution_count": 79,
   "id": "602b0383-bb46-4b96-9b7a-23024989839a",
   "metadata": {},
   "outputs": [
    {
     "name": "stdout",
     "output_type": "stream",
     "text": [
      "Word2Vec<vocab=66, vector_size=100, alpha=0.025>\n"
     ]
    }
   ],
   "source": [
    "w2vec=Word2Vec(cleaned_text,min_count=1)\n",
    "print(w2vec)\n"
   ]
  },
  {
   "cell_type": "code",
   "execution_count": 80,
   "id": "f9149b9b-8bf8-44b5-8a54-5c4f8eead33f",
   "metadata": {},
   "outputs": [
    {
     "name": "stdout",
     "output_type": "stream",
     "text": [
      "Vocabulary whose vectors are made by model are:\n",
      "soft\n",
      "bustling\n",
      "freshly\n",
      "passersby\n",
      "baked\n",
      "pastries\n",
      "creating\n",
      "irresistible\n",
      "allure\n",
      "inside\n",
      "mingles\n",
      "cozy\n",
      "ambiance\n",
      "adorned\n",
      "mismatched\n",
      "vintage\n",
      "scent\n",
      "coffee\n",
      "beans\n",
      "connection\n",
      "ground\n",
      "aroma\n",
      "inviting\n",
      "cafe\n",
      "little\n",
      "quaint\n",
      "lies\n",
      "crowds\n",
      "skyscrapers\n",
      "towering\n",
      "amidst\n",
      "city\n",
      "furniture\n",
      "flourish\n",
      "ambient\n",
      "lighting\n",
      "peace\n",
      "moments\n",
      "allowing\n",
      "slow\n",
      "seems\n",
      "time\n",
      "sanctuary\n",
      "background\n",
      "playing\n",
      "music\n",
      "jazz\n",
      "harmoniously\n",
      "blending\n",
      "voices\n",
      "art\n",
      "politics\n",
      "ranging\n",
      "conversations\n",
      "engrossed\n",
      "lattes\n",
      "leisurely\n",
      "sip\n",
      "patrons\n",
      "floors\n",
      "wooden\n",
      "worn\n",
      "glow\n",
      "warm\n",
      "casts\n",
      "heart\n"
     ]
    }
   ],
   "source": [
    "vocab = list(w2vec.wv.index_to_key)\n",
    "print(\"Vocabulary whose vectors are made by model are:\")\n",
    "for word in vocab:\n",
    "    print(word)\n"
   ]
  },
  {
   "cell_type": "code",
   "execution_count": 82,
   "id": "acbbfcf9-f21c-48d8-85d2-1e3117d7718e",
   "metadata": {},
   "outputs": [
    {
     "name": "stdout",
     "output_type": "stream",
     "text": [
      "[-0.00805857 -0.00089495  0.00639087  0.00874024 -0.005043   -0.00266434\n",
      " -0.00603795  0.00117048  0.00266513 -0.00984002  0.0024101  -0.00882275\n",
      "  0.00039586  0.00476674 -0.00525532  0.00025808 -0.00218273 -0.0086928\n",
      " -0.00240603  0.00445446 -0.0085666  -0.00593336 -0.00054548  0.00803469\n",
      "  0.00140396  0.00976238 -0.00767885  0.00899359 -0.00472621 -0.00635929\n",
      " -0.0078289   0.00184489 -0.00274749  0.00754435 -0.00051684  0.00250941\n",
      "  0.00596681 -0.00864471 -0.00206456 -0.00478463 -0.00866625  0.00341177\n",
      "  0.00241648 -0.00239948 -0.0019136  -0.00672931 -0.00326864  0.00130787\n",
      "  0.00774314  0.00706669 -0.00359696  0.00360538 -0.00257301 -0.00471823\n",
      " -0.00362511 -0.00614555  0.0035045  -0.00779107 -0.00750471 -0.00449722\n",
      "  0.00740451  0.00182653  0.00546115  0.00821995 -0.00623805 -0.00462646\n",
      "  0.00768305  0.00494819  0.00465776  0.00900088  0.00881066 -0.00267752\n",
      "  0.00104641  0.0054815   0.00890201  0.00984319 -0.00826359 -0.00512238\n",
      "  0.00498869  0.0009545   0.00015844  0.00750214  0.00639698 -0.00723208\n",
      " -0.00260045 -0.00848233  0.00704495  0.00276783 -0.00223142  0.00187923\n",
      "  0.00767592  0.00813246  0.0061761   0.00316733  0.00154592  0.00814349\n",
      "  0.00131128  0.00044796 -0.0095536   0.00252943]\n"
     ]
    }
   ],
   "source": [
    "#vector of words\n",
    "print(w2vec.wv['heart'])"
   ]
  },
  {
   "cell_type": "code",
   "execution_count": 83,
   "id": "80798c2d-605f-456a-b259-dd82a1c77111",
   "metadata": {},
   "outputs": [
    {
     "name": "stdout",
     "output_type": "stream",
     "text": [
      "[('playing', 0.33905938267707825), ('soft', 0.2047060877084732), ('aroma', 0.19271042943000793), ('amidst', 0.14651770889759064), ('peace', 0.145788311958313), ('scent', 0.1187664270401001), ('voices', 0.11608082801103592), ('time', 0.11262739449739456), ('ambiance', 0.1093381941318512), ('blending', 0.10815568268299103)]\n"
     ]
    }
   ],
   "source": [
    "#checking most similar to the given word\n",
    "print(w2vec.wv.most_similar('heart'))"
   ]
  },
  {
   "cell_type": "code",
   "execution_count": 84,
   "id": "ac45e65b-0bd0-4e1c-946d-8130f77797e5",
   "metadata": {},
   "outputs": [
    {
     "name": "stdout",
     "output_type": "stream",
     "text": [
      "-0.1731172\n"
     ]
    }
   ],
   "source": [
    "#similarity between two words\n",
    "print(w2vec.wv.similarity('heart','warm'))"
   ]
  },
  {
   "cell_type": "code",
   "execution_count": null,
   "id": "62e3bcf2-c835-48c2-b538-b525c9845e41",
   "metadata": {},
   "outputs": [],
   "source": []
  },
  {
   "cell_type": "code",
   "execution_count": null,
   "id": "67342c3b-c8d3-4482-902d-f818f0c7bb5d",
   "metadata": {},
   "outputs": [],
   "source": []
  },
  {
   "cell_type": "code",
   "execution_count": null,
   "id": "3eefd9d2-7955-486a-9c4c-2b979498444d",
   "metadata": {},
   "outputs": [],
   "source": []
  }
 ],
 "metadata": {
  "kernelspec": {
   "display_name": "Python 3 (ipykernel)",
   "language": "python",
   "name": "python3"
  },
  "language_info": {
   "codemirror_mode": {
    "name": "ipython",
    "version": 3
   },
   "file_extension": ".py",
   "mimetype": "text/x-python",
   "name": "python",
   "nbconvert_exporter": "python",
   "pygments_lexer": "ipython3",
   "version": "3.11.7"
  }
 },
 "nbformat": 4,
 "nbformat_minor": 5
}
