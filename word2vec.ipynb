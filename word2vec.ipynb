{
 "cells": [
  {
   "cell_type": "markdown",
   "id": "ad90a242-6578-4a6a-b3fe-290fdc05bc42",
   "metadata": {},
   "source": [
    "word2vec means representing words into vectors.tf-idf value gives importants to the words in corpus\n",
    "but never tells how two words are similar and has related meaning.\n",
    "in word2vec similar words have nearly similar vectors like car and automobiles are \n",
    "related so they have similar vectors. this helps in next word prediction."
   ]
  },
  {
   "cell_type": "code",
   "execution_count": 101,
   "id": "ee1429e3-6d16-429e-9e48-bd8a420e57fb",
   "metadata": {},
   "outputs": [
    {
     "data": {
      "text/plain": [
       "'4.3.0'"
      ]
     },
     "execution_count": 101,
     "metadata": {},
     "output_type": "execute_result"
    }
   ],
   "source": [
    "import nltk\n",
    "import re\n",
    "import gensim\n",
    "gensim.__version__"
   ]
  },
  {
   "cell_type": "code",
   "execution_count": 102,
   "id": "d2c39c3f-8aa4-4742-80b7-e5a91972cfa0",
   "metadata": {},
   "outputs": [],
   "source": [
    "from nltk.corpus import stopwords\n",
    "from gensim.models import Word2Vec\n",
    "from nltk.tokenize import sent_tokenize,word_tokenize"
   ]
  },
  {
   "cell_type": "code",
   "execution_count": 103,
   "id": "f65bba13-0552-4634-821d-3af4e6440f5b",
   "metadata": {},
   "outputs": [],
   "source": [
    "text=\"In the heart of the bustling city, amidst the @#$% 1234 towering skyscrapers and bustling crowds, lies a quaint little cafe. Its inviting aroma of freshly ground coffee beans mingles with the scent of freshly baked pastries, creating an irresistible allure for passersby. Inside, the cozy ambiance is adorned with mismatched vintage furniture and soft, ambient lighting that casts a warm glow on the worn wooden floors. Patrons sip leisurely on their lattes, engrossed in conversations ranging from politics to art, their voices blending harmoniously with the soft jazz music playing in the background. It's a sanctuary where time seems to slow down, allowing moments of peace and connection to flourish.\""
   ]
  },
  {
   "cell_type": "code",
   "execution_count": 104,
   "id": "31bf2999-4e3a-4936-bbe6-221c6ad2859a",
   "metadata": {},
   "outputs": [
    {
     "data": {
      "text/plain": [
       "\"In the heart of the bustling city, amidst the @#$% 1234 towering skyscrapers and bustling crowds, lies a quaint little cafe. Its inviting aroma of freshly ground coffee beans mingles with the scent of freshly baked pastries, creating an irresistible allure for passersby. Inside, the cozy ambiance is adorned with mismatched vintage furniture and soft, ambient lighting that casts a warm glow on the worn wooden floors. Patrons sip leisurely on their lattes, engrossed in conversations ranging from politics to art, their voices blending harmoniously with the soft jazz music playing in the background. It's a sanctuary where time seems to slow down, allowing moments of peace and connection to flourish.\""
      ]
     },
     "execution_count": 104,
     "metadata": {},
     "output_type": "execute_result"
    }
   ],
   "source": [
    "text"
   ]
  },
  {
   "cell_type": "code",
   "execution_count": 191,
   "id": "8e095b07-187a-4ffc-b324-2a8c9a189123",
   "metadata": {},
   "outputs": [],
   "source": [
    "def cleaning(text)\n":
        "sentence=nltk.sent_tokenize(text)\n"
        "normalized_words=[]\n"
        "for i in range(len(sentence)):\n"
            "words=re.sub('[^a-zA-Z]',' ',sentence[i])\n"
            "words=words.lower().split()\n"
            "temp=[]\n"
            "for word in words:\n"
                "if word not in stopwords.words('english'):\n"
                "temp.append(word)\n"  
             "normalized_words.append(temp)\n"
        "return normalized_words\n"
   ]
  },
  {
   "cell_type": "code",
   "execution_count": null,
   "id": "30d69be3-ca66-4695-b37b-2dcab393e760",
   "metadata": {},
   "outputs": [],
   "source": []
  },
  {
   "cell_type": "code",
   "execution_count": 199,
   "id": "6230b8e6-e545-47a1-b34c-2ab61190199a",
   "metadata": {},
   "outputs": [
    {
     "data": {
      "text/plain": [
       "['heart',\n",
       " 'bustling',\n",
       " 'city',\n",
       " 'amidst',\n",
       " 'towering',\n",
       " 'skyscrapers',\n",
       " 'bustling',\n",
       " 'crowds',\n",
       " 'lies',\n",
       " 'quaint',\n",
       " 'little',\n",
       " 'cafe',\n",
       " 'inviting',\n",
       " 'aroma',\n",
       " 'freshly',\n",
       " 'ground',\n",
       " 'coffee',\n",
       " 'beans',\n",
       " 'mingles',\n",
       " 'scent',\n",
       " 'freshly',\n",
       " 'baked',\n",
       " 'pastries',\n",
       " 'creating',\n",
       " 'irresistible',\n",
       " 'allure',\n",
       " 'passersby',\n",
       " 'inside',\n",
       " 'cozy',\n",
       " 'ambiance',\n",
       " 'adorned',\n",
       " 'mismatched',\n",
       " 'vintage',\n",
       " 'furniture',\n",
       " 'soft',\n",
       " 'ambient',\n",
       " 'lighting',\n",
       " 'casts',\n",
       " 'warm',\n",
       " 'glow',\n",
       " 'worn',\n",
       " 'wooden',\n",
       " 'floors',\n",
       " 'patrons',\n",
       " 'sip',\n",
       " 'leisurely',\n",
       " 'lattes',\n",
       " 'engrossed',\n",
       " 'conversations',\n",
       " 'ranging',\n",
       " 'politics',\n",
       " 'art',\n",
       " 'voices',\n",
       " 'blending',\n",
       " 'harmoniously',\n",
       " 'soft',\n",
       " 'jazz',\n",
       " 'music',\n",
       " 'playing',\n",
       " 'background',\n",
       " 'sanctuary',\n",
       " 'time',\n",
       " 'seems',\n",
       " 'slow',\n",
       " 'allowing',\n",
       " 'moments',\n",
       " 'peace',\n",
       " 'connection',\n",
       " 'flourish']"
      ]
     },
     "execution_count": 199,
     "metadata": {},
     "output_type": "execute_result"
    }
   ],
   "source": [
    "cleaned_text=cleaning(text)\n",
    "cleaned_text"
   ]
  },
  {
   "cell_type": "code",
   "execution_count": 201,
   "id": "602b0383-bb46-4b96-9b7a-23024989839a",
   "metadata": {},
   "outputs": [
    {
     "name": "stdout",
     "output_type": "stream",
     "text": [
      "Word2Vec<vocab=25, vector_size=100, alpha=0.025>\n"
     ]
    }
   ],
   "source": [
    "w2vec=Word2Vec(cleaned_text,min_count=1)\n",
    "print(w2vec)\n"
   ]
  },
  {
   "cell_type": "code",
   "execution_count": 202,
   "id": "f9149b9b-8bf8-44b5-8a54-5c4f8eead33f",
   "metadata": {},
   "outputs": [
    {
     "name": "stdout",
     "output_type": "stream",
     "text": [
      "Vocabulary whose vectors are made by model are:\n",
      "s\n",
      "e\n",
      "i\n",
      "n\n",
      "a\n",
      "t\n",
      "r\n",
      "o\n",
      "l\n",
      "c\n",
      "g\n",
      "m\n",
      "u\n",
      "d\n",
      "y\n",
      "b\n",
      "f\n",
      "w\n",
      "p\n",
      "h\n",
      "v\n",
      "z\n",
      "k\n",
      "q\n",
      "j\n"
     ]
    }
   ],
   "source": [
    "vocab = list(w2vec.wv.index_to_key)\n",
    "print(\"Vocabulary whose vectors are made by model are:\")\n",
    "for word in vocab:\n",
    "    print(word)\n"
   ]
  },
  {
   "cell_type": "code",
   "execution_count": 195,
   "id": "acbbfcf9-f21c-48d8-85d2-1e3117d7718e",
   "metadata": {},
   "outputs": [
    {
     "name": "stdout",
     "output_type": "stream",
     "text": [
      "[-0.00071405  0.00049873  0.00529429  0.00906687 -0.00930711 -0.00732123\n",
      "  0.00668232  0.00945343 -0.00533607 -0.0041924   0.00746384 -0.0018938\n",
      " -0.00462124  0.00653663 -0.00476613 -0.00189177  0.00318731  0.00103746\n",
      " -0.00856617 -0.01002363  0.00728538  0.00513097  0.00720374  0.00065413\n",
      "  0.00613795 -0.00323647 -0.00104918  0.0057903  -0.00759455 -0.00368696\n",
      " -0.00733797 -0.0012605   0.00954823 -0.00755782 -0.00252775 -0.00154747\n",
      "  0.00828808 -0.00595244 -0.00014641 -0.00476968 -0.0092488   0.0048487\n",
      " -0.00898236 -0.00413501  0.00013182 -0.0001965  -0.00784929  0.00940085\n",
      "  0.00503575  0.00931856 -0.00815781  0.00409638 -0.004205    0.00077543\n",
      "  0.00821004 -0.00442373  0.0047566  -0.00690086 -0.00350982  0.0094556\n",
      " -0.00160851  0.00017472 -0.00372123 -0.00775351 -0.00154585  0.00285557\n",
      " -0.00092462  0.00584585 -0.00302149  0.00212029  0.00554242  0.00865537\n",
      " -0.00113355 -0.00894974  0.00446064  0.00069729  0.00761014 -0.00072032\n",
      " -0.00269091 -0.00889532 -0.00111609  0.00273392  0.00544155  0.00708747\n",
      " -0.0057651   0.0016084   0.00621132 -0.00494925 -0.00295298  0.00673719\n",
      "  0.00180766  0.00046105  0.0034533   0.00016318  0.00997124  0.0052186\n",
      " -0.008749   -0.00721639  0.00104524  0.00648192]\n"
     ]
    }
   ],
   "source": [
    "#vector of words\n",
    "print(w2vec.wv['s'])"
   ]
  },
  {
   "cell_type": "code",
   "execution_count": 196,
   "id": "80798c2d-605f-456a-b259-dd82a1c77111",
   "metadata": {},
   "outputs": [
    {
     "name": "stdout",
     "output_type": "stream",
     "text": [
      "[('y', 0.22798730432987213), ('c', 0.2184179574251175), ('o', 0.11035918444395065), ('u', 0.10111016035079956), ('m', 0.09657002240419388), ('g', 0.07600386440753937), ('b', 0.06359473615884781), ('l', 0.037162989377975464), ('r', 0.030036460608243942), ('h', 0.01453643199056387)]\n"
     ]
    }
   ],
   "source": [
    "#checking most similar to the given word\n",
    "print(w2vec.wv.most_similar('s'))"
   ]
  },
  {
   "cell_type": "code",
   "execution_count": 197,
   "id": "ac45e65b-0bd0-4e1c-946d-8130f77797e5",
   "metadata": {},
   "outputs": [
    {
     "name": "stdout",
     "output_type": "stream",
     "text": [
      "0.22798732\n"
     ]
    }
   ],
   "source": [
    "#similarity between two words\n",
    "print(w2vec.wv.similarity('s','y'))"
   ]
  },
  {
   "cell_type": "code",
   "execution_count": null,
   "id": "62e3bcf2-c835-48c2-b538-b525c9845e41",
   "metadata": {},
   "outputs": [],
   "source": []
  },
  {
   "cell_type": "code",
   "execution_count": null,
   "id": "67342c3b-c8d3-4482-902d-f818f0c7bb5d",
   "metadata": {},
   "outputs": [],
   "source": []
  },
  {
   "cell_type": "code",
   "execution_count": null,
   "id": "3eefd9d2-7955-486a-9c4c-2b979498444d",
   "metadata": {},
   "outputs": [],
   "source": []
  }
 ],
 "metadata": {
  "kernelspec": {
   "display_name": "Python 3 (ipykernel)",
   "language": "python",
   "name": "python3"
  },
  "language_info": {
   "codemirror_mode": {
    "name": "ipython",
    "version": 3
   },
   "file_extension": ".py",
   "mimetype": "text/x-python",
   "name": "python",
   "nbconvert_exporter": "python",
   "pygments_lexer": "ipython3",
   "version": "3.11.7"
  }
 },
 "nbformat": 4,
 "nbformat_minor": 5
}
