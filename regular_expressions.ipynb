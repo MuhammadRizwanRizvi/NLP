{
 "cells": [
  {
   "cell_type": "markdown",
   "id": "41afd4f3-eacd-476b-9e9e-a8ab82c1b9c5",
   "metadata": {},
   "source": [
    "trying nlp"
   ]
  },
  {
   "cell_type": "code",
   "execution_count": 1,
   "id": "45e1c912-4f4d-492d-88d0-065808b95073",
   "metadata": {},
   "outputs": [
    {
     "name": "stdout",
     "output_type": "stream",
     "text": [
      "2024-07-05 12:02:03.081643\n"
     ]
    }
   ],
   "source": [
    "from datetime import datetime\n",
    "print(datetime.now())"
   ]
  },
  {
   "cell_type": "markdown",
   "id": "5b617cab-f1ff-459d-ad13-3ce840c4d521",
   "metadata": {},
   "source": [
    "regular expressions"
   ]
  },
  {
   "cell_type": "code",
   "execution_count": 2,
   "id": "b05ae9ce-a005-49b6-b09d-83195d5ec84c",
   "metadata": {},
   "outputs": [],
   "source": [
    "import re #used for regular expressions, all operations by regular expressions must import this library\n"
   ]
  },
  {
   "cell_type": "code",
   "execution_count": 12,
   "id": "c45010e3-280b-45b6-b7ac-1a03a11540fe",
   "metadata": {},
   "outputs": [],
   "source": [
    "#function which takes pattern and text to find either the pattern is within the text or not\n",
    "def pattern_matching(pattern,text):\n",
    "    #.findall is the built in function in re\n",
    "    matches=re.findall(pattern,text)\n",
    "    return matches"
   ]
  },
  {
   "cell_type": "code",
   "execution_count": 21,
   "id": "0b783201-3213-4a4d-9e2f-70368c02dba8",
   "metadata": {},
   "outputs": [],
   "source": [
    "#practice text\n",
    "text=\"John Doe's contact details are as follows: his mobile number is +92-3413289880, his ID card number is 42301-2294980-3, and his email address is johndoe@gmail.com. You can find him on Twitter at twitter.com/@johndoe123$ and on Facebook at facebook.com/johndoe123.\""
   ]
  },
  {
   "cell_type": "code",
   "execution_count": 17,
   "id": "331bd6c4-71d2-42e4-9b83-ec207b3806b6",
   "metadata": {},
   "outputs": [
    {
     "name": "stdout",
     "output_type": "stream",
     "text": [
      "matching the mobile number of Mr John Doe\n"
     ]
    },
    {
     "data": {
      "text/plain": [
       "['+92-3413289880']"
      ]
     },
     "execution_count": 17,
     "metadata": {},
     "output_type": "execute_result"
    }
   ],
   "source": [
    "print(\"matching the mobile number of Mr John Doe\")\n",
    "phone='\\+92-\\d{10}'\n",
    "pattern_matching(phone,text)"
   ]
  },
  {
   "cell_type": "code",
   "execution_count": 18,
   "id": "72300146-9646-4dc7-9725-7ce408579ff3",
   "metadata": {},
   "outputs": [
    {
     "name": "stdout",
     "output_type": "stream",
     "text": [
      "matching the ID of Mr John Doe\n"
     ]
    },
    {
     "data": {
      "text/plain": [
       "['42301-2294980-3']"
      ]
     },
     "execution_count": 18,
     "metadata": {},
     "output_type": "execute_result"
    }
   ],
   "source": [
    "print(\"matching the ID of Mr John Doe\")\n",
    "id='\\d{5}-\\d{7}-\\d{1}'\n",
    "pattern_matching(id,text)"
   ]
  },
  {
   "cell_type": "code",
   "execution_count": 20,
   "id": "30d6465a-cbee-4656-adc4-4dd5352e19d1",
   "metadata": {},
   "outputs": [
    {
     "name": "stdout",
     "output_type": "stream",
     "text": [
      "matching the mail of Mr John Doe\n"
     ]
    },
    {
     "data": {
      "text/plain": [
       "['johndoe@gmail.com']"
      ]
     },
     "execution_count": 20,
     "metadata": {},
     "output_type": "execute_result"
    }
   ],
   "source": [
    "print(\"matching the mail of Mr John Doe\")\n",
    "#replace gmail with your desired domain like email.yahoo,hotmail etc\n",
    "mail='\\S+@gmail.com'\n",
    "pattern_matching(mail,text)"
   ]
  },
  {
   "cell_type": "code",
   "execution_count": 23,
   "id": "1827501b-b035-49f3-a7db-6f17f7eefec4",
   "metadata": {},
   "outputs": [
    {
     "name": "stdout",
     "output_type": "stream",
     "text": [
      "matching the twitter link of Mr John Doe\n"
     ]
    },
    {
     "data": {
      "text/plain": [
       "['twitter.com/@johndoe123$']"
      ]
     },
     "execution_count": 23,
     "metadata": {},
     "output_type": "execute_result"
    }
   ],
   "source": [
    "print(\"matching the twitter link of Mr John Doe\")\n",
    "twitter='twitter.com/@\\S+'\n",
    "pattern_matching(twitter,text)"
   ]
  },
  {
   "cell_type": "code",
   "execution_count": 24,
   "id": "85d81905-c9fb-4adc-a336-b586f9371f3c",
   "metadata": {},
   "outputs": [
    {
     "name": "stdout",
     "output_type": "stream",
     "text": [
      "matching the facebook link of Mr John Doe\n"
     ]
    },
    {
     "data": {
      "text/plain": [
       "['facebook.com/johndoe123.']"
      ]
     },
     "execution_count": 24,
     "metadata": {},
     "output_type": "execute_result"
    }
   ],
   "source": [
    "print(\"matching the facebook link of Mr John Doe\")\n",
    "facebook='facebook.com/\\S+'\n",
    "pattern_matching(facebook,text)"
   ]
  },
  {
   "cell_type": "code",
   "execution_count": null,
   "id": "9ffaae63-a33b-4ce5-a8b6-75f401471330",
   "metadata": {},
   "outputs": [],
   "source": []
  }
 ],
 "metadata": {
  "kernelspec": {
   "display_name": "Python 3 (ipykernel)",
   "language": "python",
   "name": "python3"
  },
  "language_info": {
   "codemirror_mode": {
    "name": "ipython",
    "version": 3
   },
   "file_extension": ".py",
   "mimetype": "text/x-python",
   "name": "python",
   "nbconvert_exporter": "python",
   "pygments_lexer": "ipython3",
   "version": "3.11.7"
  }
 },
 "nbformat": 4,
 "nbformat_minor": 5
}
